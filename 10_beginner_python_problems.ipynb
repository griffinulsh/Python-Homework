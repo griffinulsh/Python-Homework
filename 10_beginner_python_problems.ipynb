{
 "cells": [
  {
   "cell_type": "code",
   "execution_count": 2,
   "metadata": {},
   "outputs": [
    {
     "name": "stdout",
     "output_type": "stream",
     "text": [
      "My name is Griffin\n"
     ]
    }
   ],
   "source": [
    "# Problem 1: Print Your Name\n",
    "# Write a program that prints your name.\n",
    "\n",
    "# Example output:\n",
    "# My name is John Doe.\n",
    "\n",
    "users_name = input(\"Enter your name: \")\n",
    "print(\"My name is\", users_name)"
   ]
  },
  {
   "cell_type": "code",
   "execution_count": 3,
   "metadata": {},
   "outputs": [
    {
     "name": "stdout",
     "output_type": "stream",
     "text": [
      "The sum is: 26\n"
     ]
    }
   ],
   "source": [
    "# Problem 2: Add Two Numbers\n",
    "# Write a program that takes two numbers as input and prints their sum.\n",
    "\n",
    "# Example input:\n",
    "# Enter the first number: 5\n",
    "# Enter the second number: 7\n",
    "# Example output:\n",
    "# The sum is: 12\n",
    "\n",
    "first_number = int(input(\"Enter the first number: \"))\n",
    "second_number = int(input(\"Enter the second number: \"))\n",
    "print(\"The sum is:\", first_number + second_number)"
   ]
  },
  {
   "cell_type": "code",
   "execution_count": 5,
   "metadata": {},
   "outputs": [
    {
     "name": "stdout",
     "output_type": "stream",
     "text": [
      "The number is even.\n"
     ]
    }
   ],
   "source": [
    "# Problem 3: Check Even or Odd\n",
    "# Write a program to check if a number is even or odd.\n",
    "\n",
    "# Example input:\n",
    "# Enter a number: 4\n",
    "# Example output:\n",
    "# The number is even.\n",
    "\n",
    "number_entered = int(input(\"Enter a number: \"))\n",
    "if number_entered % 2 == 0:\n",
    "    print(\"The number is even.\")\n",
    "else:\n",
    "    print(\"The number is odd.\")"
   ]
  },
  {
   "cell_type": "code",
   "execution_count": 6,
   "metadata": {},
   "outputs": [
    {
     "name": "stdout",
     "output_type": "stream",
     "text": [
      "The temperature in Fahrenheit is: 57.2\n"
     ]
    }
   ],
   "source": [
    "\n",
    "# Problem 4: Convert Celsius to Fahrenheit\n",
    "# Write a program to convert temperature from Celsius to Fahrenheit.\n",
    "\n",
    "# Formula: Fahrenheit = (Celsius * 9/5) + 32\n",
    "# Example input:\n",
    "# Enter temperature in Celsius: 25\n",
    "# Example output:\n",
    "# The temperature in Fahrenheit is: 77.0\n",
    "\n",
    "celsius = float(input(\"Enter temperature in Celsius: \"))\n",
    "fahrenheit = (celsius * 9/5) + 32\n",
    "print(\"The temperature in Fahrenheit is:\", fahrenheit)"
   ]
  },
  {
   "cell_type": "code",
   "execution_count": 7,
   "metadata": {},
   "outputs": [
    {
     "name": "stdout",
     "output_type": "stream",
     "text": [
      "The larger number is: 9\n"
     ]
    }
   ],
   "source": [
    "# Problem 5: Find the Larger Number\n",
    "# Write a program that compares two numbers and prints the larger one.\n",
    "\n",
    "# Example input:\n",
    "# Enter the first number: 10\n",
    "# Enter the second number: 20\n",
    "# Example output:\n",
    "# The larger number is: 20\n",
    "\n",
    "number_1 = int(input(\"Enter the first number: \"))\n",
    "number_2 = int(input(\"Enter the second number: \"))\n",
    "\n",
    "if number_1 > number_2:\n",
    "    print(\"The larger number is:\", number_1)\n",
    "else:\n",
    "    print(\"The larger number is:\", number_2)"
   ]
  },
  {
   "cell_type": "code",
   "execution_count": 8,
   "metadata": {},
   "outputs": [
    {
     "name": "stdout",
     "output_type": "stream",
     "text": [
      "1 2 3 4 5 6 7 8 9 10 "
     ]
    }
   ],
   "source": [
    "# Problem 6: Print Numbers 1 to 10\n",
    "# Write a program that prints all numbers from 1 to 10.\n",
    "\n",
    "# Example output:\n",
    "# 1 2 3 4 5 6 7 8 9 10\n",
    "\n",
    "for i in range(1, 11):\n",
    "    print(i, end=\" \")\n",
    "    "
   ]
  },
  {
   "cell_type": "code",
   "execution_count": 10,
   "metadata": {},
   "outputs": [
    {
     "name": "stdout",
     "output_type": "stream",
     "text": [
      "4 x 1 = 4\n",
      "4 x 2 = 8\n",
      "4 x 3 = 12\n",
      "4 x 4 = 16\n",
      "4 x 5 = 20\n",
      "4 x 6 = 24\n",
      "4 x 7 = 28\n",
      "4 x 8 = 32\n",
      "4 x 9 = 36\n",
      "4 x 10 = 40\n"
     ]
    }
   ],
   "source": [
    "# Problem 7: Simple Multiplication Table\n",
    "# Write a program to print the multiplication table of a number.\n",
    "\n",
    "# Example input:\n",
    "# Enter a number: 3\n",
    "# Example output:\n",
    "# 3 x 1 = 3\n",
    "# 3 x 2 = 6\n",
    "# ...\n",
    "# 3 x 10 = 30\n",
    "\n",
    "multiplication_number = int(input(\"Enter a number: \"))\n",
    "\n",
    "for i in range(1, 11):\n",
    "    print(multiplication_number, \"x\", i, \"=\", multiplication_number * i)"
   ]
  },
  {
   "cell_type": "code",
   "execution_count": 11,
   "metadata": {},
   "outputs": [
    {
     "name": "stdout",
     "output_type": "stream",
     "text": [
      "Word in reversE:  niffirG\n"
     ]
    }
   ],
   "source": [
    "# Problem 8: Reverse a String\n",
    "# Write a program that takes a string and prints it in reverse.\n",
    "\n",
    "# Example input:\n",
    "# Enter a string: Python\n",
    "# Example output:\n",
    "# The reversed string is: nohtyP\n",
    "\n",
    "entered_string = str(input(\"Enter a word: \"))\n",
    "\n",
    "print(\"Word in reversE: \", entered_string[::-1])"
   ]
  },
  {
   "cell_type": "code",
   "execution_count": 13,
   "metadata": {},
   "outputs": [
    {
     "name": "stdout",
     "output_type": "stream",
     "text": [
      "Your word has 7 characters in it.\n"
     ]
    }
   ],
   "source": [
    "# Problem 9: Count the Length of a String\n",
    "# Write a program that counts the number of characters in a string.\n",
    "\n",
    "# Example input:\n",
    "# Enter a string: Hello\n",
    "# Example output:\n",
    "# The length of the string is: 5\n",
    "\n",
    "string_to_count_len = str(input(\"Enter a word and I'll tell you how many characters it has: \"))\n",
    "\n",
    "print(\"Your word has\", len(string_to_count_len), \"characters in it.\")"
   ]
  },
  {
   "cell_type": "code",
   "execution_count": 22,
   "metadata": {},
   "outputs": [
    {
     "name": "stdout",
     "output_type": "stream",
     "text": [
      "Your number is negative\n"
     ]
    }
   ],
   "source": [
    "# Problem 10: Check if a Number is Positive, Negative, or Zero\n",
    "# Write a program that checks whether a number is positive, negative, or zero.\n",
    "\n",
    "# Example input:\n",
    "# Enter a number: -5\n",
    "# Example output:\n",
    "# The number is negative.\n",
    "\n",
    "num_to_check = int(input(\"Enter a number for me to check \"))\n",
    "\n",
    "if num_to_check == 0:\n",
    "    print(\"Your number is 0\")\n",
    "elif num_to_check < 0:\n",
    "    print(\"Your number is negative\")\n",
    "elif num_to_check > 0:\n",
    "    print(\"Your number is positive\")"
   ]
  },
  {
   "cell_type": "code",
   "execution_count": null,
   "metadata": {},
   "outputs": [],
   "source": []
  }
 ],
 "metadata": {
  "kernelspec": {
   "display_name": "Python 3",
   "language": "python",
   "name": "python3"
  },
  "language_info": {
   "codemirror_mode": {
    "name": "ipython",
    "version": 3
   },
   "file_extension": ".py",
   "mimetype": "text/x-python",
   "name": "python",
   "nbconvert_exporter": "python",
   "pygments_lexer": "ipython3",
   "version": "3.11.4"
  }
 },
 "nbformat": 4,
 "nbformat_minor": 2
}
