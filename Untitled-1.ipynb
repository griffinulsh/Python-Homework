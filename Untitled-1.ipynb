{
 "cells": [
  {
   "cell_type": "code",
   "execution_count": null,
   "metadata": {},
   "outputs": [],
   "source": [
    "# Problem 11: Sum of a List\n",
    "# Write a program that takes a list of numbers and prints the sum of all the numbers.\n",
    "\n",
    "# Example input:\n",
    "# Enter numbers separated by spaces: 1 2 3 4 5\n",
    "# Example output:\n",
    "# The sum of the numbers is: 15\n",
    "\n"
   ]
  }
 ],
 "metadata": {
  "language_info": {
   "name": "python"
  }
 },
 "nbformat": 4,
 "nbformat_minor": 2
}
